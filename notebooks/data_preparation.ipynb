{
 "cells": [
  {
   "cell_type": "code",
   "execution_count": null,
   "metadata": {},
   "outputs": [
    {
     "name": "stderr",
     "output_type": "stream",
     "text": [
      "C:\\Users\\Makka Papa\\AppData\\Local\\Temp\\ipykernel_3008\\2214807639.py:14: DtypeWarning: Columns (124,128,132,136,140,144,148,152,156,160,164,168,172,176,180,184,188,192,196,200) have mixed types. Specify dtype option on import or set low_memory=False.\n",
      "  file2 = pd.read_csv(file2_path)\n"
     ]
    }
   ],
   "source": [
    "import pandas as pd\n",
    "from functools import reduce\n",
    "from pathlib import Path\n",
    "import os\n",
    "\n",
    "code_dir = Path(os.getcwd())\n",
    "\n",
    "# directory where the data is stored\n",
    "base_path = code_dir.parent / \"data\"\n",
    "\n",
    "# File 2 CBCL data\n",
    "file2_path = f\"{base_path}/mh_p_cbcl.csv\"\n",
    "\n",
    "file2 = pd.read_csv(file2_path)\n",
    "\n",
    "file2_baseline_filtered = file2[file2['eventname'] == 'baseline_year_1_arm_1']\n",
    "\n",
    "#drop score\n",
    "file2_drop = file2_baseline_filtered.loc[:, ~file2_baseline_filtered.columns.str.endswith(('_r', '_t', '_m', '_nm', '_nm_2', '___1'))]\n",
    "#drop eventname\n",
    "file2_drop = file2_drop.drop(columns=['eventname'])\n",
    "file2_final_cleaned = file2_drop.dropna(axis=0)"
   ]
  },
  {
   "cell_type": "code",
   "execution_count": 7,
   "metadata": {},
   "outputs": [],
   "source": [
    "file2_final_cleaned.to_csv(f'{base_path}/cbcl_data_remove_useless_items.csv')\n"
   ]
  }
 ],
 "metadata": {
  "kernelspec": {
   "display_name": "mne",
   "language": "python",
   "name": "python3"
  },
  "language_info": {
   "codemirror_mode": {
    "name": "ipython",
    "version": 3
   },
   "file_extension": ".py",
   "mimetype": "text/x-python",
   "name": "python",
   "nbconvert_exporter": "python",
   "pygments_lexer": "ipython3",
   "version": "3.11.6"
  }
 },
 "nbformat": 4,
 "nbformat_minor": 2
}
